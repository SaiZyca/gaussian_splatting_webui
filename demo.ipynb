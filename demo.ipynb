{
 "cells": [
  {
   "cell_type": "code",
   "execution_count": null,
   "metadata": {},
   "outputs": [],
   "source": [
    "%load_ext gradio"
   ]
  },
  {
   "cell_type": "code",
   "execution_count": null,
   "metadata": {},
   "outputs": [],
   "source": [
    "import gradio as gr\n",
    "from modules import op_colmap, symbols, op_tinker\n",
    "import os"
   ]
  },
  {
   "cell_type": "code",
   "execution_count": null,
   "metadata": {},
   "outputs": [],
   "source": [
    "css = ''\n",
    "\n",
    "if os.path.exists('style.css'):\n",
    "    with open(os.path.join('style.css'), 'r', encoding='utf8') as file: \n",
    "        print('Load CSS...')\n",
    "        css += file.read() + '\\n'"
   ]
  },
  {
   "cell_type": "code",
   "execution_count": null,
   "metadata": {},
   "outputs": [],
   "source": [
    "def colmap_ui():\n",
    "    with gr.Blocks() as ui:\n",
    "        with gr.Accordion(\"Colmap Settings\", open=False):\n",
    "            with gr.Row():\n",
    "                colmap_bin_path = gr.Textbox(label=\"colmap binary path\", value=r\".\\external\\COLMAP\\COLMAP-3.8-windows-cuda\\bin\\colmap.exe\", interactive=True)\n",
    "            with gr.Row():\n",
    "                colmap_matcher = gr.Dropdown(label=\"colmap matcher\", value=\"sequential\", choices=[\"exhaustive\",\"sequential\",\"spatial\",\"transitive\",\"vocab_tree\"], interactive=True)\n",
    "                colmap_camera_model = gr.Dropdown(label=\"colmap camera model\", value=\"OPENCV\", choices=[\"SIMPLE_PINHOLE\", \"PINHOLE\", \"SIMPLE_RADIAL\", \"RADIAL\", \"OPENCV\", \"SIMPLE_RADIAL_FISHEYE\", \"RADIAL_FISHEYE\", \"OPENCV_FISHEYE\"], interactive=True)\n",
    "                aabb_scale = gr.Number(label=\"aabb scale\", value=\"32\", minimum=1, maximum=128, step=2, interactive=True)\n",
    "                video_fps = gr.Number(label=\"video fps\", value=\"2\", minimum=1, maximum=300, step=1, interactive=True)\n",
    "            with gr.Row():\n",
    "                colmap_db = gr.Textbox(label=\"colmap db filename\", value=\"colmap.db\", interactive=True)\n",
    "                out = gr.Textbox(label=\"Output path\", value=\"transforms.json\", interactive=True)\n",
    "                vocab_path = gr.Textbox(label=\"Vocabulary tree path\", value=\"\")\n",
    "                colmap_camera_params = gr.Textbox(label=\"colmap camera params\", value=\"\", placeholder=\"Format: fx,fy,cx,cy,dis\", interactive=False)\n",
    "        with gr.Accordion(\"ffmpeg Settings\", open=False):\n",
    "            with gr.Row():\n",
    "                ffmpeg_bin_path = gr.Textbox(label=\"ffmpeg binary path\", value=r\".\\external\\ffmpeg\\ffmpeg-6.0-essentials_build\\bin\\ffmpeg.exe\", interactive=True)\n",
    "                extract_format = gr.Radio(value=\".png\", choices=[\".jpg\",\".png\",\".webp\"], label=\"extract format\",)\n",
    "        with gr.Row():\n",
    "            project_folder = gr.Textbox(label=\"Gaussain Splattiing Project Folder\")\n",
    "            project_folder_button = gr.Button(symbols.folder_symbol, elem_id='open_folder_small')\n",
    "        with gr.Tab('Image Files'):\n",
    "            image_files = gr.File(label='images', file_types=[\"image\"], file_count='multiple')\n",
    "            build_from_images_btn = gr.Button(value=\"Process\")\n",
    "        with gr.Tab('Movie'):\n",
    "            movie_files = gr.File(label='Movie', file_types=[\"video\"], file_count='multiple')\n",
    "            build_from_video_btn = gr.Button()\n",
    "        \n",
    "        project_folder_button.click(op_tinker.folder_browser, \n",
    "                                inputs=[], \n",
    "                                outputs=project_folder, \n",
    "                                show_progress=\"hidden\")\n",
    "        \n",
    "        build_from_images_btn.click(op_colmap.colmap_images,\n",
    "                                    inputs=[project_folder, image_files, \n",
    "                                            colmap_bin_path, colmap_matcher, colmap_camera_model, colmap_camera_params, colmap_db, aabb_scale],\n",
    "                                    outputs=[],\n",
    "                                    )      \n",
    "\n",
    "    return ui"
   ]
  },
  {
   "cell_type": "code",
   "execution_count": null,
   "metadata": {},
   "outputs": [],
   "source": [
    "%%blocks\n",
    "\n",
    "with gr.Blocks(css=css, title='MoonShot GUI', theme=gr.themes.Default()) as demo:\n",
    "    with gr.Tab('Colmap'):\n",
    "        colmap_ui()"
   ]
  }
 ],
 "metadata": {
  "kernelspec": {
   "display_name": "venv",
   "language": "python",
   "name": "python3"
  },
  "language_info": {
   "codemirror_mode": {
    "name": "ipython",
    "version": 3
   },
   "file_extension": ".py",
   "mimetype": "text/x-python",
   "name": "python",
   "nbconvert_exporter": "python",
   "pygments_lexer": "ipython3",
   "version": "3.10.11"
  }
 },
 "nbformat": 4,
 "nbformat_minor": 2
}
