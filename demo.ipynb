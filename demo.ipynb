{
 "cells": [
  {
   "cell_type": "code",
   "execution_count": null,
   "metadata": {},
   "outputs": [],
   "source": [
    "%load_ext autoreload\n",
    "%autoreload 2\n",
    "%load_ext gradio"
   ]
  },
  {
   "cell_type": "code",
   "execution_count": null,
   "metadata": {},
   "outputs": [],
   "source": [
    "import gradio as gr\n",
    "import os\n",
    "from modules import cmd_args, ui_colmap, ui_gaussian_splatting\n",
    "from pathlib import Path"
   ]
  },
  {
   "cell_type": "code",
   "execution_count": null,
   "metadata": {},
   "outputs": [],
   "source": [
    "%%blocks\n",
    "\n",
    "css = ''\n",
    "\n",
    "if os.path.exists('./style.css'):\n",
    "    with open(os.path.join('./style.css'), 'r', encoding='utf8') as file: \n",
    "        print('Load CSS...')\n",
    "        css += file.read() + '\\n'\n",
    "\n",
    "root_path = Path().resolve()\n",
    "project_folder = r\"%s\\_project\" % (root_path)\n",
    "os.makedirs(project_folder, exist_ok=True)\n",
    "\n",
    "with gr.Blocks(css=css, title='Gaussian Splatting WebUI', theme=gr.themes.Default()) as demo:\n",
    "    with gr.Tab('Colmap to Gaussian Splatting'):\n",
    "        ui_colmap.ui()\n",
    "        "
   ]
  }
 ],
 "metadata": {
  "kernelspec": {
   "display_name": "venv",
   "language": "python",
   "name": "python3"
  },
  "language_info": {
   "codemirror_mode": {
    "name": "ipython",
    "version": 3
   },
   "file_extension": ".py",
   "mimetype": "text/x-python",
   "name": "python",
   "nbconvert_exporter": "python",
   "pygments_lexer": "ipython3",
   "version": "3.10.11"
  }
 },
 "nbformat": 4,
 "nbformat_minor": 2
}
